{
 "cells": [
  {
   "cell_type": "code",
   "execution_count": 1,
   "metadata": {},
   "outputs": [],
   "source": [
    "import os\n",
    "from bs4 import BeautifulSoup as bs\n",
    "import requests\n",
    "import pandas as pd\n",
    "from splinter import Browser\n",
    "from webdriver_manager.chrome import ChromeDriverManager"
   ]
  },
  {
   "cell_type": "code",
   "execution_count": 2,
   "metadata": {},
   "outputs": [
    {
     "name": "stderr",
     "output_type": "stream",
     "text": [
      "\n",
      "\n",
      "====== WebDriver manager ======\n",
      "Current google-chrome version is 94.0.4606\n",
      "Get LATEST driver version for 94.0.4606\n",
      "Get LATEST driver version for 94.0.4606\n",
      "Trying to download new driver from https://chromedriver.storage.googleapis.com/94.0.4606.61/chromedriver_win32.zip\n",
      "Driver has been saved in cache [C:\\Users\\leann\\.wdm\\drivers\\chromedriver\\win32\\94.0.4606.61]\n"
     ]
    }
   ],
   "source": [
    "executable_path = {'executable_path': ChromeDriverManager().install()}\n",
    "browser = Browser('chrome', **executable_path, headless=False)"
   ]
  },
  {
   "cell_type": "code",
   "execution_count": 3,
   "metadata": {},
   "outputs": [],
   "source": [
    "url = \"https://www.imdb.com/\"\n",
    "browser.visit(url)"
   ]
  },
  {
   "cell_type": "code",
   "execution_count": 4,
   "metadata": {},
   "outputs": [],
   "source": [
    "html = browser.html\n",
    "soup = bs(html, 'html.parser')"
   ]
  },
  {
   "cell_type": "code",
   "execution_count": 7,
   "metadata": {},
   "outputs": [],
   "source": [
    "movie_elem = soup.select_one('div.top-box-office')"
   ]
  },
  {
   "cell_type": "code",
   "execution_count": 8,
   "metadata": {},
   "outputs": [
    {
     "name": "stdout",
     "output_type": "stream",
     "text": [
      "<div class=\"top-box-office\"><a class=\"ipc-title ipc-title--subsection-title ipc-title--baseAlt ipc-title--on-textPrimary ipc-title-link-wrapper\" href=\"/chart/boxoffice/?ref_=hm_cht_sm\" tabindex=\"0\"><h3 class=\"ipc-title__text\">Top box office (US)<svg class=\"ipc-icon ipc-icon--chevron-right-inline ipc-icon--inline ipc-title-link-chevron\" fill=\"currentColor\" height=\"24\" role=\"presentation\" viewbox=\"0 0 24 24\" width=\"24\" xmlns=\"http://www.w3.org/2000/svg\"><path d=\"M5.622.631A2.153 2.153 0 0 0 5 2.147c0 .568.224 1.113.622 1.515l8.249 8.34-8.25 8.34a2.16 2.16 0 0 0-.548 2.07c.196.74.768 1.317 1.499 1.515a2.104 2.104 0 0 0 2.048-.555l9.758-9.866a2.153 2.153 0 0 0 0-3.03L8.62.61C7.812-.207 6.45-.207 5.622.63z\"></path></svg></h3><div class=\"ipc-title__description\">Weekend of October 1-3</div></a><div class=\"LazyLoader__StyledContainer-sc-3p6sn8-0 fZBBAT\"><div data-testid=\"loader-container\"><div class=\"TopBoxOffice__IE11Wrapper-sc-28jxk1-1 cGCBTO\" data-testid=\"boxOfficeList\"><div class=\"TopBoxOffice__TopBoxOfficeList-sc-28jxk1-0 davDpc\"><div class=\"TopBoxOfficeTitle__BoxOfficeTitle-dujkoe-3 ldXnPT boxOfficeTitle\"><div class=\"TopBoxOfficeTitle__BoxOfficeRank-dujkoe-4 fOHTvS\">1</div><div class=\"TopBoxOfficeTitle__BoxOfficeLine-dujkoe-6 kTSRuA\"></div><div aria-label=\"add to watchlist\" class=\"ipc-watchlist-ribbon ipc-focusable ipc-watchlist-ribbon--m ipc-watchlist-ribbon--baseAlt TopBoxOfficeTitle__BoxOfficeWatchlistRibbon-dujkoe-2 kiWkDD\" role=\"button\" tabindex=\"0\"><svg class=\"ipc-watchlist-ribbon__bg\" height=\"34px\" role=\"presentation\" viewbox=\"0 0 24 34\" width=\"24px\" xmlns=\"http://www.w3.org/2000/svg\"><polygon class=\"ipc-watchlist-ribbon__bg-ribbon\" fill=\"#000000\" points=\"24 0 0 0 0 32 12.2436611 26.2926049 24 31.7728343\"></polygon><polygon class=\"ipc-watchlist-ribbon__bg-hover\" points=\"24 0 0 0 0 32 12.2436611 26.2926049 24 31.7728343\"></polygon><polygon class=\"ipc-watchlist-ribbon__bg-shadow\" points=\"24 31.7728343 24 33.7728343 12.2436611 28.2926049 0 34 0 32 12.2436611 26.2926049\"></polygon></svg><div class=\"ipc-watchlist-ribbon__icon\" role=\"presentation\"><svg class=\"ipc-icon ipc-icon--add ipc-icon--inline\" fill=\"currentColor\" height=\"24\" role=\"presentation\" viewbox=\"0 0 24 24\" width=\"24\" xmlns=\"http://www.w3.org/2000/svg\"><path d=\"M0 0h24v24H0V0z\" fill=\"none\"></path><path d=\"M18 13h-5v5c0 .55-.45 1-1 1s-1-.45-1-1v-5H6c-.55 0-1-.45-1-1s.45-1 1-1h5V6c0-.55.45-1 1-1s1 .45 1 1v5h5c.55 0 1 .45 1 1s-.45 1-1 1z\"></path></svg></div></div><a class=\"TopBoxOfficeTitle__BoxOfficeTitlePageLink-dujkoe-0 dDNrEz boxOfficeTitleLink\" href=\"/title/tt7097896/?ref_=hm_cht_1\"><div class=\"TopBoxOfficeTitle__BoxOfficeTitleName-dujkoe-1 fpNAXa\">Venom: Let There Be Carnage</div><div class=\"TopBoxOfficeTitle__BoxOfficeGrossAmount-dujkoe-5 bdjpKH\">$90M</div></a></div><div class=\"TopBoxOfficeTitle__BoxOfficeTitle-dujkoe-3 ldXnPT boxOfficeTitle\"><div class=\"TopBoxOfficeTitle__BoxOfficeRank-dujkoe-4 fOHTvS\">2</div><div class=\"TopBoxOfficeTitle__BoxOfficeLine-dujkoe-6 kTSRuA\"></div><div aria-label=\"add to watchlist\" class=\"ipc-watchlist-ribbon ipc-focusable ipc-watchlist-ribbon--m ipc-watchlist-ribbon--baseAlt TopBoxOfficeTitle__BoxOfficeWatchlistRibbon-dujkoe-2 kiWkDD\" role=\"button\" tabindex=\"0\"><svg class=\"ipc-watchlist-ribbon__bg\" height=\"34px\" role=\"presentation\" viewbox=\"0 0 24 34\" width=\"24px\" xmlns=\"http://www.w3.org/2000/svg\"><polygon class=\"ipc-watchlist-ribbon__bg-ribbon\" fill=\"#000000\" points=\"24 0 0 0 0 32 12.2436611 26.2926049 24 31.7728343\"></polygon><polygon class=\"ipc-watchlist-ribbon__bg-hover\" points=\"24 0 0 0 0 32 12.2436611 26.2926049 24 31.7728343\"></polygon><polygon class=\"ipc-watchlist-ribbon__bg-shadow\" points=\"24 31.7728343 24 33.7728343 12.2436611 28.2926049 0 34 0 32 12.2436611 26.2926049\"></polygon></svg><div class=\"ipc-watchlist-ribbon__icon\" role=\"presentation\"><svg class=\"ipc-icon ipc-icon--add ipc-icon--inline\" fill=\"currentColor\" height=\"24\" role=\"presentation\" viewbox=\"0 0 24 24\" width=\"24\" xmlns=\"http://www.w3.org/2000/svg\"><path d=\"M0 0h24v24H0V0z\" fill=\"none\"></path><path d=\"M18 13h-5v5c0 .55-.45 1-1 1s-1-.45-1-1v-5H6c-.55 0-1-.45-1-1s.45-1 1-1h5V6c0-.55.45-1 1-1s1 .45 1 1v5h5c.55 0 1 .45 1 1s-.45 1-1 1z\"></path></svg></div></div><a class=\"TopBoxOfficeTitle__BoxOfficeTitlePageLink-dujkoe-0 dDNrEz boxOfficeTitleLink\" href=\"/title/tt11125620/?ref_=hm_cht_2\"><div class=\"TopBoxOfficeTitle__BoxOfficeTitleName-dujkoe-1 fpNAXa\">The Addams Family 2</div><div class=\"TopBoxOfficeTitle__BoxOfficeGrossAmount-dujkoe-5 bdjpKH\">$17M</div></a></div><div class=\"TopBoxOfficeTitle__BoxOfficeTitle-dujkoe-3 ldXnPT boxOfficeTitle\"><div class=\"TopBoxOfficeTitle__BoxOfficeRank-dujkoe-4 fOHTvS\">3</div><div class=\"TopBoxOfficeTitle__BoxOfficeLine-dujkoe-6 kTSRuA\"></div><div aria-label=\"add to watchlist\" class=\"ipc-watchlist-ribbon ipc-focusable ipc-watchlist-ribbon--m ipc-watchlist-ribbon--baseAlt TopBoxOfficeTitle__BoxOfficeWatchlistRibbon-dujkoe-2 kiWkDD\" role=\"button\" tabindex=\"0\"><svg class=\"ipc-watchlist-ribbon__bg\" height=\"34px\" role=\"presentation\" viewbox=\"0 0 24 34\" width=\"24px\" xmlns=\"http://www.w3.org/2000/svg\"><polygon class=\"ipc-watchlist-ribbon__bg-ribbon\" fill=\"#000000\" points=\"24 0 0 0 0 32 12.2436611 26.2926049 24 31.7728343\"></polygon><polygon class=\"ipc-watchlist-ribbon__bg-hover\" points=\"24 0 0 0 0 32 12.2436611 26.2926049 24 31.7728343\"></polygon><polygon class=\"ipc-watchlist-ribbon__bg-shadow\" points=\"24 31.7728343 24 33.7728343 12.2436611 28.2926049 0 34 0 32 12.2436611 26.2926049\"></polygon></svg><div class=\"ipc-watchlist-ribbon__icon\" role=\"presentation\"><svg class=\"ipc-icon ipc-icon--add ipc-icon--inline\" fill=\"currentColor\" height=\"24\" role=\"presentation\" viewbox=\"0 0 24 24\" width=\"24\" xmlns=\"http://www.w3.org/2000/svg\"><path d=\"M0 0h24v24H0V0z\" fill=\"none\"></path><path d=\"M18 13h-5v5c0 .55-.45 1-1 1s-1-.45-1-1v-5H6c-.55 0-1-.45-1-1s.45-1 1-1h5V6c0-.55.45-1 1-1s1 .45 1 1v5h5c.55 0 1 .45 1 1s-.45 1-1 1z\"></path></svg></div></div><a class=\"TopBoxOfficeTitle__BoxOfficeTitlePageLink-dujkoe-0 dDNrEz boxOfficeTitleLink\" href=\"/title/tt9376612/?ref_=hm_cht_3\"><div class=\"TopBoxOfficeTitle__BoxOfficeTitleName-dujkoe-1 fpNAXa\">Shang-Chi and the Legend of the Ten Rings</div><div class=\"TopBoxOfficeTitle__BoxOfficeGrossAmount-dujkoe-5 bdjpKH\">$6.1M</div></a><a aria-disabled=\"false\" aria-label=\"Shang-Chi and the Legend of the Ten Ringsshowtimes link\" class=\"ipc-icon-link boxOffice-showtimes-link ipc-icon-link--baseAlt ipc-icon-link--onAccent2\" href=\"/showtimes/title/tt9376612/?ref_=hm_cht_3\" role=\"button\" tabindex=\"0\" title=\"Shang-Chi and the Legend of the Ten Ringsshowtimes link\"><svg class=\"ipc-icon ipc-icon--ticket\" fill=\"currentColor\" height=\"24\" role=\"presentation\" viewbox=\"0 0 24 24\" width=\"24\" xmlns=\"http://www.w3.org/2000/svg\"><path d=\"M19.678 6.95l1.414 1.414a1 1 0 0 1 0 1.414L9.778 21.092a1 1 0 0 1-1.414 0L6.95 19.678a2 2 0 1 0-2.829-2.829l-1.414-1.414a1 1 0 0 1 0-1.414L14.021 2.707a1 1 0 0 1 1.414 0l1.414 1.414a2 2 0 1 0 2.829 2.829z\"></path></svg></a></div><div class=\"TopBoxOfficeTitle__BoxOfficeTitle-dujkoe-3 ldXnPT boxOfficeTitle\"><div class=\"TopBoxOfficeTitle__BoxOfficeRank-dujkoe-4 fOHTvS\">4</div><div class=\"TopBoxOfficeTitle__BoxOfficeLine-dujkoe-6 kTSRuA\"></div><div aria-label=\"add to watchlist\" class=\"ipc-watchlist-ribbon ipc-focusable ipc-watchlist-ribbon--m ipc-watchlist-ribbon--baseAlt TopBoxOfficeTitle__BoxOfficeWatchlistRibbon-dujkoe-2 kiWkDD\" role=\"button\" tabindex=\"0\"><svg class=\"ipc-watchlist-ribbon__bg\" height=\"34px\" role=\"presentation\" viewbox=\"0 0 24 34\" width=\"24px\" xmlns=\"http://www.w3.org/2000/svg\"><polygon class=\"ipc-watchlist-ribbon__bg-ribbon\" fill=\"#000000\" points=\"24 0 0 0 0 32 12.2436611 26.2926049 24 31.7728343\"></polygon><polygon class=\"ipc-watchlist-ribbon__bg-hover\" points=\"24 0 0 0 0 32 12.2436611 26.2926049 24 31.7728343\"></polygon><polygon class=\"ipc-watchlist-ribbon__bg-shadow\" points=\"24 31.7728343 24 33.7728343 12.2436611 28.2926049 0 34 0 32 12.2436611 26.2926049\"></polygon></svg><div class=\"ipc-watchlist-ribbon__icon\" role=\"presentation\"><svg class=\"ipc-icon ipc-icon--add ipc-icon--inline\" fill=\"currentColor\" height=\"24\" role=\"presentation\" viewbox=\"0 0 24 24\" width=\"24\" xmlns=\"http://www.w3.org/2000/svg\"><path d=\"M0 0h24v24H0V0z\" fill=\"none\"></path><path d=\"M18 13h-5v5c0 .55-.45 1-1 1s-1-.45-1-1v-5H6c-.55 0-1-.45-1-1s.45-1 1-1h5V6c0-.55.45-1 1-1s1 .45 1 1v5h5c.55 0 1 .45 1 1s-.45 1-1 1z\"></path></svg></div></div><a class=\"TopBoxOfficeTitle__BoxOfficeTitlePageLink-dujkoe-0 dDNrEz boxOfficeTitleLink\" href=\"/title/tt8110232/?ref_=hm_cht_4\"><div class=\"TopBoxOfficeTitle__BoxOfficeTitleName-dujkoe-1 fpNAXa\">The Many Saints of Newark</div><div class=\"TopBoxOfficeTitle__BoxOfficeGrossAmount-dujkoe-5 bdjpKH\">$4.7M</div></a><a aria-disabled=\"false\" aria-label=\"The Many Saints of Newarkshowtimes link\" class=\"ipc-icon-link boxOffice-showtimes-link ipc-icon-link--baseAlt ipc-icon-link--onAccent2\" href=\"/showtimes/title/tt8110232/?ref_=hm_cht_4\" role=\"button\" tabindex=\"0\" title=\"The Many Saints of Newarkshowtimes link\"><svg class=\"ipc-icon ipc-icon--ticket\" fill=\"currentColor\" height=\"24\" role=\"presentation\" viewbox=\"0 0 24 24\" width=\"24\" xmlns=\"http://www.w3.org/2000/svg\"><path d=\"M19.678 6.95l1.414 1.414a1 1 0 0 1 0 1.414L9.778 21.092a1 1 0 0 1-1.414 0L6.95 19.678a2 2 0 1 0-2.829-2.829l-1.414-1.414a1 1 0 0 1 0-1.414L14.021 2.707a1 1 0 0 1 1.414 0l1.414 1.414a2 2 0 1 0 2.829 2.829z\"></path></svg></a></div><div class=\"TopBoxOfficeTitle__BoxOfficeTitle-dujkoe-3 ldXnPT boxOfficeTitle\"><div class=\"TopBoxOfficeTitle__BoxOfficeRank-dujkoe-4 fOHTvS\">5</div><div class=\"TopBoxOfficeTitle__BoxOfficeLine-dujkoe-6 kTSRuA\"></div><div aria-label=\"add to watchlist\" class=\"ipc-watchlist-ribbon ipc-focusable ipc-watchlist-ribbon--m ipc-watchlist-ribbon--baseAlt TopBoxOfficeTitle__BoxOfficeWatchlistRibbon-dujkoe-2 kiWkDD\" role=\"button\" tabindex=\"0\"><svg class=\"ipc-watchlist-ribbon__bg\" height=\"34px\" role=\"presentation\" viewbox=\"0 0 24 34\" width=\"24px\" xmlns=\"http://www.w3.org/2000/svg\"><polygon class=\"ipc-watchlist-ribbon__bg-ribbon\" fill=\"#000000\" points=\"24 0 0 0 0 32 12.2436611 26.2926049 24 31.7728343\"></polygon><polygon class=\"ipc-watchlist-ribbon__bg-hover\" points=\"24 0 0 0 0 32 12.2436611 26.2926049 24 31.7728343\"></polygon><polygon class=\"ipc-watchlist-ribbon__bg-shadow\" points=\"24 31.7728343 24 33.7728343 12.2436611 28.2926049 0 34 0 32 12.2436611 26.2926049\"></polygon></svg><div class=\"ipc-watchlist-ribbon__icon\" role=\"presentation\"><svg class=\"ipc-icon ipc-icon--add ipc-icon--inline\" fill=\"currentColor\" height=\"24\" role=\"presentation\" viewbox=\"0 0 24 24\" width=\"24\" xmlns=\"http://www.w3.org/2000/svg\"><path d=\"M0 0h24v24H0V0z\" fill=\"none\"></path><path d=\"M18 13h-5v5c0 .55-.45 1-1 1s-1-.45-1-1v-5H6c-.55 0-1-.45-1-1s.45-1 1-1h5V6c0-.55.45-1 1-1s1 .45 1 1v5h5c.55 0 1 .45 1 1s-.45 1-1 1z\"></path></svg></div></div><a class=\"TopBoxOfficeTitle__BoxOfficeTitlePageLink-dujkoe-0 dDNrEz boxOfficeTitleLink\" href=\"/title/tt9357050/?ref_=hm_cht_5\"><div class=\"TopBoxOfficeTitle__BoxOfficeTitleName-dujkoe-1 fpNAXa\">Dear Evan Hansen</div><div class=\"TopBoxOfficeTitle__BoxOfficeGrossAmount-dujkoe-5 bdjpKH\">$2.5M</div></a></div><div class=\"TopBoxOfficeTitle__BoxOfficeTitle-dujkoe-3 ldXnPT boxOfficeTitle\"><div class=\"TopBoxOfficeTitle__BoxOfficeRank-dujkoe-4 fOHTvS\">6</div><div class=\"TopBoxOfficeTitle__BoxOfficeLine-dujkoe-6 kTSRuA\"></div><div aria-label=\"add to watchlist\" class=\"ipc-watchlist-ribbon ipc-focusable ipc-watchlist-ribbon--m ipc-watchlist-ribbon--baseAlt TopBoxOfficeTitle__BoxOfficeWatchlistRibbon-dujkoe-2 kiWkDD\" role=\"button\" tabindex=\"0\"><svg class=\"ipc-watchlist-ribbon__bg\" height=\"34px\" role=\"presentation\" viewbox=\"0 0 24 34\" width=\"24px\" xmlns=\"http://www.w3.org/2000/svg\"><polygon class=\"ipc-watchlist-ribbon__bg-ribbon\" fill=\"#000000\" points=\"24 0 0 0 0 32 12.2436611 26.2926049 24 31.7728343\"></polygon><polygon class=\"ipc-watchlist-ribbon__bg-hover\" points=\"24 0 0 0 0 32 12.2436611 26.2926049 24 31.7728343\"></polygon><polygon class=\"ipc-watchlist-ribbon__bg-shadow\" points=\"24 31.7728343 24 33.7728343 12.2436611 28.2926049 0 34 0 32 12.2436611 26.2926049\"></polygon></svg><div class=\"ipc-watchlist-ribbon__icon\" role=\"presentation\"><svg class=\"ipc-icon ipc-icon--add ipc-icon--inline\" fill=\"currentColor\" height=\"24\" role=\"presentation\" viewbox=\"0 0 24 24\" width=\"24\" xmlns=\"http://www.w3.org/2000/svg\"><path d=\"M0 0h24v24H0V0z\" fill=\"none\"></path><path d=\"M18 13h-5v5c0 .55-.45 1-1 1s-1-.45-1-1v-5H6c-.55 0-1-.45-1-1s.45-1 1-1h5V6c0-.55.45-1 1-1s1 .45 1 1v5h5c.55 0 1 .45 1 1s-.45 1-1 1z\"></path></svg></div></div><a class=\"TopBoxOfficeTitle__BoxOfficeTitlePageLink-dujkoe-0 dDNrEz boxOfficeTitleLink\" href=\"/title/tt6264654/?ref_=hm_cht_6\"><div class=\"TopBoxOfficeTitle__BoxOfficeTitleName-dujkoe-1 fpNAXa\">Free Guy</div><div class=\"TopBoxOfficeTitle__BoxOfficeGrossAmount-dujkoe-5 bdjpKH\">$2.3M</div></a><a aria-disabled=\"false\" aria-label=\"Free Guyshowtimes link\" class=\"ipc-icon-link boxOffice-showtimes-link ipc-icon-link--baseAlt ipc-icon-link--onAccent2\" href=\"/showtimes/title/tt6264654/?ref_=hm_cht_6\" role=\"button\" tabindex=\"0\" title=\"Free Guyshowtimes link\"><svg class=\"ipc-icon ipc-icon--ticket\" fill=\"currentColor\" height=\"24\" role=\"presentation\" viewbox=\"0 0 24 24\" width=\"24\" xmlns=\"http://www.w3.org/2000/svg\"><path d=\"M19.678 6.95l1.414 1.414a1 1 0 0 1 0 1.414L9.778 21.092a1 1 0 0 1-1.414 0L6.95 19.678a2 2 0 1 0-2.829-2.829l-1.414-1.414a1 1 0 0 1 0-1.414L14.021 2.707a1 1 0 0 1 1.414 0l1.414 1.414a2 2 0 1 0 2.829 2.829z\"></path></svg></a></div></div></div></div></div></div>\n"
     ]
    }
   ],
   "source": [
    "print(movie_elem)"
   ]
  },
  {
   "cell_type": "code",
   "execution_count": 9,
   "metadata": {},
   "outputs": [
    {
     "data": {
      "text/plain": [
       "'Venom: Let There Be Carnage'"
      ]
     },
     "execution_count": 9,
     "metadata": {},
     "output_type": "execute_result"
    }
   ],
   "source": [
    "movie_title = movie_elem.find(\"div\", class_=\"TopBoxOfficeTitle__BoxOfficeTitleName-dujkoe-1 fpNAXa\").get_text()\n",
    "movie_title"
   ]
  },
  {
   "cell_type": "code",
   "execution_count": 10,
   "metadata": {},
   "outputs": [
    {
     "data": {
      "text/plain": [
       "'$90M'"
      ]
     },
     "execution_count": 10,
     "metadata": {},
     "output_type": "execute_result"
    }
   ],
   "source": [
    "movie_profit = movie_elem.find(\"div\", class_=\"TopBoxOfficeTitle__BoxOfficeGrossAmount-dujkoe-5 bdjpKH\").get_text()\n",
    "movie_profit"
   ]
  },
  {
   "cell_type": "code",
   "execution_count": 18,
   "metadata": {},
   "outputs": [],
   "source": [
    "movie_titles = soup.find_all('div', class_=\"TopBoxOfficeTitle__BoxOfficeTitleName-dujkoe-1 fpNAXa\")"
   ]
  },
  {
   "cell_type": "code",
   "execution_count": 19,
   "metadata": {},
   "outputs": [
    {
     "data": {
      "text/plain": [
       "[<div class=\"TopBoxOfficeTitle__BoxOfficeTitleName-dujkoe-1 fpNAXa\">Venom: Let There Be Carnage</div>,\n",
       " <div class=\"TopBoxOfficeTitle__BoxOfficeTitleName-dujkoe-1 fpNAXa\">The Addams Family 2</div>,\n",
       " <div class=\"TopBoxOfficeTitle__BoxOfficeTitleName-dujkoe-1 fpNAXa\">Shang-Chi and the Legend of the Ten Rings</div>,\n",
       " <div class=\"TopBoxOfficeTitle__BoxOfficeTitleName-dujkoe-1 fpNAXa\">The Many Saints of Newark</div>,\n",
       " <div class=\"TopBoxOfficeTitle__BoxOfficeTitleName-dujkoe-1 fpNAXa\">Dear Evan Hansen</div>,\n",
       " <div class=\"TopBoxOfficeTitle__BoxOfficeTitleName-dujkoe-1 fpNAXa\">Free Guy</div>]"
      ]
     },
     "execution_count": 19,
     "metadata": {},
     "output_type": "execute_result"
    }
   ],
   "source": [
    "movie_titles"
   ]
  },
  {
   "cell_type": "code",
   "execution_count": 24,
   "metadata": {},
   "outputs": [],
   "source": [
    "movie_titles = soup.find_all('div', class_=\"TopBoxOfficeTitle__BoxOfficeTitleName-dujkoe-1 fpNAXa\")\n",
    "\n",
    "movie_title_list = []\n",
    "\n",
    "for movie in movie_titles:\n",
    "    \n",
    "    title = movie.text.strip()\n",
    "    movie_title_list.append(title)\n",
    "    "
   ]
  },
  {
   "cell_type": "code",
   "execution_count": 25,
   "metadata": {},
   "outputs": [
    {
     "data": {
      "text/plain": [
       "['Venom: Let There Be Carnage',\n",
       " 'The Addams Family 2',\n",
       " 'Shang-Chi and the Legend of the Ten Rings',\n",
       " 'The Many Saints of Newark',\n",
       " 'Dear Evan Hansen',\n",
       " 'Free Guy']"
      ]
     },
     "execution_count": 25,
     "metadata": {},
     "output_type": "execute_result"
    }
   ],
   "source": [
    "movie_title_list"
   ]
  },
  {
   "cell_type": "code",
   "execution_count": 26,
   "metadata": {},
   "outputs": [],
   "source": [
    "movie_profit = soup.find_all('div', class_=\"TopBoxOfficeTitle__BoxOfficeGrossAmount-dujkoe-5 bdjpKH\")\n",
    "\n",
    "movie_profit_list = []\n",
    "\n",
    "for movie in movie_profit:\n",
    "    \n",
    "    profit = movie.text.strip()\n",
    "    movie_profit_list.append(profit)"
   ]
  },
  {
   "cell_type": "code",
   "execution_count": 27,
   "metadata": {},
   "outputs": [
    {
     "data": {
      "text/plain": [
       "['$90M', '$17M', '$6.1M', '$4.7M', '$2.5M', '$2.3M']"
      ]
     },
     "execution_count": 27,
     "metadata": {},
     "output_type": "execute_result"
    }
   ],
   "source": [
    "movie_profit_list"
   ]
  },
  {
   "cell_type": "code",
   "execution_count": 28,
   "metadata": {},
   "outputs": [],
   "source": [
    "# Ending the session.\n",
    "browser.quit()"
   ]
  }
 ],
 "metadata": {
  "kernelspec": {
   "display_name": "Python 3",
   "language": "python",
   "name": "python3"
  },
  "language_info": {
   "codemirror_mode": {
    "name": "ipython",
    "version": 3
   },
   "file_extension": ".py",
   "mimetype": "text/x-python",
   "name": "python",
   "nbconvert_exporter": "python",
   "pygments_lexer": "ipython3",
   "version": "3.8.5"
  }
 },
 "nbformat": 4,
 "nbformat_minor": 4
}
