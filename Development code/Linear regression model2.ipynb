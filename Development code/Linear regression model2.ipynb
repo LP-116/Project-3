{
 "cells": [
  {
   "cell_type": "code",
   "execution_count": 198,
   "metadata": {},
   "outputs": [],
   "source": [
    " import warnings\n",
    "warnings.simplefilter('ignore')\n",
    "\n",
    "# %matplotlib inline\n",
    "import matplotlib.pyplot as plt\n",
    "import numpy as np\n",
    "import pandas as pd"
   ]
  },
  {
   "cell_type": "code",
   "execution_count": 199,
   "metadata": {},
   "outputs": [
    {
     "data": {
      "text/html": [
       "<div>\n",
       "<style scoped>\n",
       "    .dataframe tbody tr th:only-of-type {\n",
       "        vertical-align: middle;\n",
       "    }\n",
       "\n",
       "    .dataframe tbody tr th {\n",
       "        vertical-align: top;\n",
       "    }\n",
       "\n",
       "    .dataframe thead th {\n",
       "        text-align: right;\n",
       "    }\n",
       "</style>\n",
       "<table border=\"1\" class=\"dataframe\">\n",
       "  <thead>\n",
       "    <tr style=\"text-align: right;\">\n",
       "      <th></th>\n",
       "      <th>imdb_title_id</th>\n",
       "      <th>original_title</th>\n",
       "      <th>year</th>\n",
       "      <th>genre</th>\n",
       "      <th>country</th>\n",
       "      <th>production_company</th>\n",
       "      <th>duration</th>\n",
       "      <th>votes</th>\n",
       "      <th>budget</th>\n",
       "      <th>usa_gross_income</th>\n",
       "      <th>worldwide_gross_income</th>\n",
       "      <th>rating</th>\n",
       "      <th>metascore</th>\n",
       "    </tr>\n",
       "  </thead>\n",
       "  <tbody>\n",
       "    <tr>\n",
       "      <th>0</th>\n",
       "      <td>tt7374952</td>\n",
       "      <td>Chicano</td>\n",
       "      <td>2018</td>\n",
       "      <td>Drama</td>\n",
       "      <td>USA</td>\n",
       "      <td>Films</td>\n",
       "      <td>108</td>\n",
       "      <td>1016</td>\n",
       "      <td>8000000</td>\n",
       "      <td>1400603</td>\n",
       "      <td>1404646</td>\n",
       "      <td>5.3</td>\n",
       "      <td>46</td>\n",
       "    </tr>\n",
       "    <tr>\n",
       "      <th>1</th>\n",
       "      <td>tt0238247</td>\n",
       "      <td>Army</td>\n",
       "      <td>2000</td>\n",
       "      <td>Drama</td>\n",
       "      <td>USA</td>\n",
       "      <td>Films</td>\n",
       "      <td>108</td>\n",
       "      <td>1021</td>\n",
       "      <td>300000</td>\n",
       "      <td>2637726</td>\n",
       "      <td>2637726</td>\n",
       "      <td>6.4</td>\n",
       "      <td>38</td>\n",
       "    </tr>\n",
       "    <tr>\n",
       "      <th>2</th>\n",
       "      <td>tt0462579</td>\n",
       "      <td>Treatment</td>\n",
       "      <td>2006</td>\n",
       "      <td>Romance</td>\n",
       "      <td>USA</td>\n",
       "      <td>Shrinkwrap</td>\n",
       "      <td>86</td>\n",
       "      <td>1037</td>\n",
       "      <td>900000</td>\n",
       "      <td>83354</td>\n",
       "      <td>83354</td>\n",
       "      <td>5.8</td>\n",
       "      <td>54</td>\n",
       "    </tr>\n",
       "    <tr>\n",
       "      <th>3</th>\n",
       "      <td>tt2094890</td>\n",
       "      <td>George</td>\n",
       "      <td>2013</td>\n",
       "      <td>Drama</td>\n",
       "      <td>USA</td>\n",
       "      <td>Productions</td>\n",
       "      <td>107</td>\n",
       "      <td>1037</td>\n",
       "      <td>750000</td>\n",
       "      <td>157937</td>\n",
       "      <td>157937</td>\n",
       "      <td>6.4</td>\n",
       "      <td>77</td>\n",
       "    </tr>\n",
       "    <tr>\n",
       "      <th>4</th>\n",
       "      <td>tt6512428</td>\n",
       "      <td>Indivisible</td>\n",
       "      <td>2018</td>\n",
       "      <td>War</td>\n",
       "      <td>USA</td>\n",
       "      <td>Films</td>\n",
       "      <td>119</td>\n",
       "      <td>1038</td>\n",
       "      <td>2700000</td>\n",
       "      <td>3511417</td>\n",
       "      <td>3589633</td>\n",
       "      <td>5.8</td>\n",
       "      <td>53</td>\n",
       "    </tr>\n",
       "  </tbody>\n",
       "</table>\n",
       "</div>"
      ],
      "text/plain": [
       "  imdb_title_id original_title  year    genre country production_company  \\\n",
       "0     tt7374952        Chicano  2018    Drama     USA              Films   \n",
       "1     tt0238247           Army  2000    Drama     USA              Films   \n",
       "2     tt0462579      Treatment  2006  Romance     USA         Shrinkwrap   \n",
       "3     tt2094890         George  2013    Drama     USA        Productions   \n",
       "4     tt6512428    Indivisible  2018      War     USA              Films   \n",
       "\n",
       "   duration  votes   budget  usa_gross_income  worldwide_gross_income  rating  \\\n",
       "0       108   1016  8000000           1400603                 1404646     5.3   \n",
       "1       108   1021   300000           2637726                 2637726     6.4   \n",
       "2        86   1037   900000             83354                   83354     5.8   \n",
       "3       107   1037   750000            157937                  157937     6.4   \n",
       "4       119   1038  2700000           3511417                 3589633     5.8   \n",
       "\n",
       "   metascore  \n",
       "0         46  \n",
       "1         38  \n",
       "2         54  \n",
       "3         77  \n",
       "4         53  "
      ]
     },
     "execution_count": 199,
     "metadata": {},
     "output_type": "execute_result"
    }
   ],
   "source": [
    "movies_df = pd.read_csv('machine learning.csv')\n",
    "movies_df.head()"
   ]
  },
  {
   "cell_type": "code",
   "execution_count": 200,
   "metadata": {},
   "outputs": [
    {
     "name": "stdout",
     "output_type": "stream",
     "text": [
      "(4031, 5) (4031, 1)\n"
     ]
    }
   ],
   "source": [
    "# X = movies_df[[\"duration\", \"votes\", \"rating\", \"metascore\", \"budget\"]]\n",
    "# y = movies_df[\"worldwide_gross_income\"].values.reshape(-1, 1)\n",
    "# print(X.shape, y.shape)\n",
    "\n",
    "X = movies_df[[\"duration\", \"votes\", \"worldwide_gross_income\", \"metascore\", \"budget\"]]\n",
    "y = movies_df[\"rating\"].values.reshape(-1, 1)\n",
    "print(X.shape, y.shape)"
   ]
  },
  {
   "cell_type": "code",
   "execution_count": 201,
   "metadata": {},
   "outputs": [
    {
     "data": {
      "text/html": [
       "<div>\n",
       "<style scoped>\n",
       "    .dataframe tbody tr th:only-of-type {\n",
       "        vertical-align: middle;\n",
       "    }\n",
       "\n",
       "    .dataframe tbody tr th {\n",
       "        vertical-align: top;\n",
       "    }\n",
       "\n",
       "    .dataframe thead th {\n",
       "        text-align: right;\n",
       "    }\n",
       "</style>\n",
       "<table border=\"1\" class=\"dataframe\">\n",
       "  <thead>\n",
       "    <tr style=\"text-align: right;\">\n",
       "      <th></th>\n",
       "      <th>duration</th>\n",
       "      <th>votes</th>\n",
       "      <th>worldwide_gross_income</th>\n",
       "      <th>metascore</th>\n",
       "      <th>budget</th>\n",
       "    </tr>\n",
       "  </thead>\n",
       "  <tbody>\n",
       "    <tr>\n",
       "      <th>2086</th>\n",
       "      <td>86</td>\n",
       "      <td>47108</td>\n",
       "      <td>2437000</td>\n",
       "      <td>75</td>\n",
       "      <td>777000</td>\n",
       "    </tr>\n",
       "    <tr>\n",
       "      <th>1422</th>\n",
       "      <td>118</td>\n",
       "      <td>25417</td>\n",
       "      <td>201890</td>\n",
       "      <td>62</td>\n",
       "      <td>6000000</td>\n",
       "    </tr>\n",
       "    <tr>\n",
       "      <th>296</th>\n",
       "      <td>104</td>\n",
       "      <td>4626</td>\n",
       "      <td>10372291</td>\n",
       "      <td>34</td>\n",
       "      <td>90000000</td>\n",
       "    </tr>\n",
       "    <tr>\n",
       "      <th>2401</th>\n",
       "      <td>112</td>\n",
       "      <td>62370</td>\n",
       "      <td>44567606</td>\n",
       "      <td>62</td>\n",
       "      <td>10000000</td>\n",
       "    </tr>\n",
       "    <tr>\n",
       "      <th>507</th>\n",
       "      <td>105</td>\n",
       "      <td>7718</td>\n",
       "      <td>342202</td>\n",
       "      <td>60</td>\n",
       "      <td>4000000</td>\n",
       "    </tr>\n",
       "  </tbody>\n",
       "</table>\n",
       "</div>"
      ],
      "text/plain": [
       "      duration  votes  worldwide_gross_income  metascore    budget\n",
       "2086        86  47108                 2437000         75    777000\n",
       "1422       118  25417                  201890         62   6000000\n",
       "296        104   4626                10372291         34  90000000\n",
       "2401       112  62370                44567606         62  10000000\n",
       "507        105   7718                  342202         60   4000000"
      ]
     },
     "execution_count": 201,
     "metadata": {},
     "output_type": "execute_result"
    }
   ],
   "source": [
    "from sklearn.model_selection import train_test_split\n",
    "\n",
    "X_train, X_test, y_train, y_test = train_test_split(X, y, random_state=42)\n",
    "\n",
    "X_train.head()"
   ]
  },
  {
   "cell_type": "code",
   "execution_count": 202,
   "metadata": {},
   "outputs": [],
   "source": [
    "from sklearn.preprocessing import StandardScaler\n",
    "X_scaler = StandardScaler().fit(X_train)\n",
    "y_scaler = StandardScaler().fit(y_train)"
   ]
  },
  {
   "cell_type": "code",
   "execution_count": 203,
   "metadata": {},
   "outputs": [],
   "source": [
    "X_train_scaled = X_scaler.transform(X_train)\n",
    "X_test_scaled = X_scaler.transform(X_test)\n",
    "y_train_scaled = y_scaler.transform(y_train)\n",
    "y_test_scaled = y_scaler.transform(y_test)"
   ]
  },
  {
   "cell_type": "code",
   "execution_count": 204,
   "metadata": {},
   "outputs": [
    {
     "data": {
      "image/png": "[encoded data removed]",
      "text/plain": [
       "<Figure size 432x288 with 1 Axes>"
      ]
     },
     "metadata": {
      "needs_background": "light"
     },
     "output_type": "display_data"
    }
   ],
   "source": [
    "from sklearn.linear_model import LinearRegression\n",
    "model = LinearRegression()\n",
    "model.fit(X_train_scaled, y_train_scaled)\n",
    "\n",
    "plt.scatter(model.predict(X_train_scaled), y_train_scaled - model.predict(X_train_scaled), c=\"blue\", label=\"Training Data\")\n",
    "plt.scatter(model.predict(X_test_scaled), y_test_scaled - model.predict(X_test_scaled), c=\"orange\", label=\"Testing Data\")\n",
    "plt.legend()\n",
    "plt.hlines(y=0, xmin=y_test_scaled.min(), xmax=y_test_scaled.max())\n",
    "plt.title(\"Residual Plot\")\n",
    "plt.show()"
   ]
  },
  {
   "cell_type": "code",
   "execution_count": 210,
   "metadata": {},
   "outputs": [
    {
     "name": "stdout",
     "output_type": "stream",
     "text": [
      "Training Data Score: 0.6134451034640581\n",
      "Testing Data Score: 0.6428990143569557\n"
     ]
    }
   ],
   "source": [
    "training_score = model.score(X_train_scaled, y_train_scaled)\n",
    "testing_score = model.score(X_test_scaled, y_test_scaled)\n",
    "    \n",
    "print(f\"Training Data Score: {training_score}\")\n",
    "print(f\"Testing Data Score: {testing_score}\")"
   ]
  },
  {
   "cell_type": "code",
   "execution_count": 205,
   "metadata": {},
   "outputs": [
    {
     "name": "stdout",
     "output_type": "stream",
     "text": [
      "MSE: 0.3499942139627913, R2: 0.6428990143569557\n"
     ]
    }
   ],
   "source": [
    " from sklearn.metrics import mean_squared_error\n",
    "\n",
    "predictions = model.predict(X_test_scaled)\n",
    "MSE = mean_squared_error(y_test_scaled, predictions)\n",
    "r2 = model.score(X_test_scaled, y_test_scaled)\n",
    "\n",
    "print(f\"MSE: {MSE}, R2: {r2}\")"
   ]
  },
  {
   "cell_type": "code",
   "execution_count": 208,
   "metadata": {},
   "outputs": [
    {
     "name": "stdout",
     "output_type": "stream",
     "text": [
      "MSE: 0.3495246799742346, R2: 0.6433780824198475\n"
     ]
    }
   ],
   "source": [
    "from sklearn.linear_model import Lasso\n",
    "\n",
    "lasso = Lasso(alpha=.01).fit(X_train_scaled, y_train_scaled)\n",
    "\n",
    "predictions = lasso.predict(X_test_scaled)\n",
    "\n",
    "MSE = mean_squared_error(y_test_scaled, predictions)\n",
    "r2 = lasso.score(X_test_scaled, y_test_scaled)\n",
    "\n",
    "print(f\"MSE: {MSE}, R2: {r2}\")"
   ]
  },
  {
   "cell_type": "code",
   "execution_count": 207,
   "metadata": {},
   "outputs": [
    {
     "name": "stdout",
     "output_type": "stream",
     "text": [
      "MSE: 0.34962871177912414, R2: 0.6432719382077943\n"
     ]
    }
   ],
   "source": [
    "from sklearn.linear_model import ElasticNet\n",
    "\n",
    "elasticnet = ElasticNet(alpha=.01).fit(X_train_scaled, y_train_scaled)\n",
    "\n",
    "predictions = elasticnet.predict(X_test_scaled)\n",
    "\n",
    "MSE = mean_squared_error(y_test_scaled, predictions)\n",
    "r2 = elasticnet.score(X_test_scaled, y_test_scaled)\n",
    "\n",
    "print(f\"MSE: {MSE}, R2: {r2}\")"
   ]
  },
  {
   "cell_type": "code",
   "execution_count": 209,
   "metadata": {},
   "outputs": [
    {
     "data": {
      "text/plain": [
       "0.6428990143569557"
      ]
     },
     "execution_count": 209,
     "metadata": {},
     "output_type": "execute_result"
    }
   ],
   "source": [
    "model.score(X_test_scaled,y_test_scaled)"
   ]
  },
  {
   "cell_type": "code",
   "execution_count": null,
   "metadata": {},
   "outputs": [],
   "source": []
  }
 ],
 "metadata": {
  "kernelspec": {
   "display_name": "Python 3",
   "language": "python",
   "name": "python3"
  },
  "language_info": {
   "codemirror_mode": {
    "name": "ipython",
    "version": 3
   },
   "file_extension": ".py",
   "mimetype": "text/x-python",
   "name": "python",
   "nbconvert_exporter": "python",
   "pygments_lexer": "ipython3",
   "version": "3.8.5"
  }
 },
 "nbformat": 4,
 "nbformat_minor": 4
}
